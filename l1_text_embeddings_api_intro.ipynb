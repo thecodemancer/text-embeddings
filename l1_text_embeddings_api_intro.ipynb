{
  "nbformat": 4,
  "nbformat_minor": 0,
  "metadata": {
    "colab": {
      "provenance": [],
      "toc_visible": true,
      "authorship_tag": "ABX9TyOjudGyj+g0RcyMjj/FT8k+"
    },
    "kernelspec": {
      "name": "python3",
      "display_name": "Python 3"
    },
    "language_info": {
      "name": "python"
    }
  },
  "cells": [
    {
      "cell_type": "markdown",
      "source": [
        "# Text Embeddings"
      ],
      "metadata": {
        "id": "PZy0NhKxjBfn"
      }
    },
    {
      "cell_type": "markdown",
      "source": [
        "### Project environment setup\n",
        "- Load credentials and relevant Python Libraries\n",
        "- If you were running this notebook locally, you would first install Vertex AI. In this classroom, this is already installed.\n"
      ],
      "metadata": {
        "id": "E4DdByAhedzu"
      }
    },
    {
      "cell_type": "code",
      "source": [
        "!pip install google-cloud-aiplatform"
      ],
      "metadata": {
        "colab": {
          "base_uri": "https://localhost:8080/"
        },
        "id": "sGoutxgEeXlm",
        "outputId": "d35bab71-d92b-4a94-d30d-6f080e91a454"
      },
      "execution_count": null,
      "outputs": [
        {
          "output_type": "stream",
          "name": "stdout",
          "text": [
            "Requirement already satisfied: google-cloud-aiplatform in /usr/local/lib/python3.10/dist-packages (1.64.0)\n",
            "Requirement already satisfied: google-api-core!=2.0.*,!=2.1.*,!=2.2.*,!=2.3.*,!=2.4.*,!=2.5.*,!=2.6.*,!=2.7.*,<3.0.0dev,>=1.34.1 in /usr/local/lib/python3.10/dist-packages (from google-api-core[grpc]!=2.0.*,!=2.1.*,!=2.2.*,!=2.3.*,!=2.4.*,!=2.5.*,!=2.6.*,!=2.7.*,<3.0.0dev,>=1.34.1->google-cloud-aiplatform) (2.19.2)\n",
            "Requirement already satisfied: google-auth<3.0.0dev,>=2.14.1 in /usr/local/lib/python3.10/dist-packages (from google-cloud-aiplatform) (2.27.0)\n",
            "Requirement already satisfied: proto-plus<2.0.0dev,>=1.22.3 in /usr/local/lib/python3.10/dist-packages (from google-cloud-aiplatform) (1.24.0)\n",
            "Requirement already satisfied: protobuf!=4.21.0,!=4.21.1,!=4.21.2,!=4.21.3,!=4.21.4,!=4.21.5,<6.0.0dev,>=3.20.2 in /usr/local/lib/python3.10/dist-packages (from google-cloud-aiplatform) (3.20.3)\n",
            "Requirement already satisfied: packaging>=14.3 in /usr/local/lib/python3.10/dist-packages (from google-cloud-aiplatform) (24.1)\n",
            "Requirement already satisfied: google-cloud-storage<3.0.0dev,>=1.32.0 in /usr/local/lib/python3.10/dist-packages (from google-cloud-aiplatform) (2.8.0)\n",
            "Requirement already satisfied: google-cloud-bigquery!=3.20.0,<4.0.0dev,>=1.15.0 in /usr/local/lib/python3.10/dist-packages (from google-cloud-aiplatform) (3.25.0)\n",
            "Requirement already satisfied: google-cloud-resource-manager<3.0.0dev,>=1.3.3 in /usr/local/lib/python3.10/dist-packages (from google-cloud-aiplatform) (1.12.5)\n",
            "Requirement already satisfied: shapely<3.0.0dev in /usr/local/lib/python3.10/dist-packages (from google-cloud-aiplatform) (2.0.6)\n",
            "Requirement already satisfied: pydantic<3 in /usr/local/lib/python3.10/dist-packages (from google-cloud-aiplatform) (2.8.2)\n",
            "Requirement already satisfied: docstring-parser<1 in /usr/local/lib/python3.10/dist-packages (from google-cloud-aiplatform) (0.16)\n",
            "Requirement already satisfied: googleapis-common-protos<2.0.dev0,>=1.56.2 in /usr/local/lib/python3.10/dist-packages (from google-api-core!=2.0.*,!=2.1.*,!=2.2.*,!=2.3.*,!=2.4.*,!=2.5.*,!=2.6.*,!=2.7.*,<3.0.0dev,>=1.34.1->google-api-core[grpc]!=2.0.*,!=2.1.*,!=2.2.*,!=2.3.*,!=2.4.*,!=2.5.*,!=2.6.*,!=2.7.*,<3.0.0dev,>=1.34.1->google-cloud-aiplatform) (1.65.0)\n",
            "Requirement already satisfied: requests<3.0.0.dev0,>=2.18.0 in /usr/local/lib/python3.10/dist-packages (from google-api-core!=2.0.*,!=2.1.*,!=2.2.*,!=2.3.*,!=2.4.*,!=2.5.*,!=2.6.*,!=2.7.*,<3.0.0dev,>=1.34.1->google-api-core[grpc]!=2.0.*,!=2.1.*,!=2.2.*,!=2.3.*,!=2.4.*,!=2.5.*,!=2.6.*,!=2.7.*,<3.0.0dev,>=1.34.1->google-cloud-aiplatform) (2.32.3)\n",
            "Requirement already satisfied: grpcio<2.0dev,>=1.33.2 in /usr/local/lib/python3.10/dist-packages (from google-api-core[grpc]!=2.0.*,!=2.1.*,!=2.2.*,!=2.3.*,!=2.4.*,!=2.5.*,!=2.6.*,!=2.7.*,<3.0.0dev,>=1.34.1->google-cloud-aiplatform) (1.64.1)\n",
            "Requirement already satisfied: grpcio-status<2.0.dev0,>=1.33.2 in /usr/local/lib/python3.10/dist-packages (from google-api-core[grpc]!=2.0.*,!=2.1.*,!=2.2.*,!=2.3.*,!=2.4.*,!=2.5.*,!=2.6.*,!=2.7.*,<3.0.0dev,>=1.34.1->google-cloud-aiplatform) (1.48.2)\n",
            "Requirement already satisfied: cachetools<6.0,>=2.0.0 in /usr/local/lib/python3.10/dist-packages (from google-auth<3.0.0dev,>=2.14.1->google-cloud-aiplatform) (5.5.0)\n",
            "Requirement already satisfied: pyasn1-modules>=0.2.1 in /usr/local/lib/python3.10/dist-packages (from google-auth<3.0.0dev,>=2.14.1->google-cloud-aiplatform) (0.4.0)\n",
            "Requirement already satisfied: rsa<5,>=3.1.4 in /usr/local/lib/python3.10/dist-packages (from google-auth<3.0.0dev,>=2.14.1->google-cloud-aiplatform) (4.9)\n",
            "Requirement already satisfied: google-cloud-core<3.0.0dev,>=1.6.0 in /usr/local/lib/python3.10/dist-packages (from google-cloud-bigquery!=3.20.0,<4.0.0dev,>=1.15.0->google-cloud-aiplatform) (2.4.1)\n",
            "Requirement already satisfied: google-resumable-media<3.0dev,>=0.6.0 in /usr/local/lib/python3.10/dist-packages (from google-cloud-bigquery!=3.20.0,<4.0.0dev,>=1.15.0->google-cloud-aiplatform) (2.7.2)\n",
            "Requirement already satisfied: python-dateutil<3.0dev,>=2.7.2 in /usr/local/lib/python3.10/dist-packages (from google-cloud-bigquery!=3.20.0,<4.0.0dev,>=1.15.0->google-cloud-aiplatform) (2.8.2)\n",
            "Requirement already satisfied: grpc-google-iam-v1<1.0.0dev,>=0.12.4 in /usr/local/lib/python3.10/dist-packages (from google-cloud-resource-manager<3.0.0dev,>=1.3.3->google-cloud-aiplatform) (0.13.1)\n",
            "Requirement already satisfied: annotated-types>=0.4.0 in /usr/local/lib/python3.10/dist-packages (from pydantic<3->google-cloud-aiplatform) (0.7.0)\n",
            "Requirement already satisfied: pydantic-core==2.20.1 in /usr/local/lib/python3.10/dist-packages (from pydantic<3->google-cloud-aiplatform) (2.20.1)\n",
            "Requirement already satisfied: typing-extensions>=4.6.1 in /usr/local/lib/python3.10/dist-packages (from pydantic<3->google-cloud-aiplatform) (4.12.2)\n",
            "Requirement already satisfied: numpy<3,>=1.14 in /usr/local/lib/python3.10/dist-packages (from shapely<3.0.0dev->google-cloud-aiplatform) (1.26.4)\n",
            "Requirement already satisfied: google-crc32c<2.0dev,>=1.0 in /usr/local/lib/python3.10/dist-packages (from google-resumable-media<3.0dev,>=0.6.0->google-cloud-bigquery!=3.20.0,<4.0.0dev,>=1.15.0->google-cloud-aiplatform) (1.5.0)\n",
            "Requirement already satisfied: pyasn1<0.7.0,>=0.4.6 in /usr/local/lib/python3.10/dist-packages (from pyasn1-modules>=0.2.1->google-auth<3.0.0dev,>=2.14.1->google-cloud-aiplatform) (0.6.0)\n",
            "Requirement already satisfied: six>=1.5 in /usr/local/lib/python3.10/dist-packages (from python-dateutil<3.0dev,>=2.7.2->google-cloud-bigquery!=3.20.0,<4.0.0dev,>=1.15.0->google-cloud-aiplatform) (1.16.0)\n",
            "Requirement already satisfied: charset-normalizer<4,>=2 in /usr/local/lib/python3.10/dist-packages (from requests<3.0.0.dev0,>=2.18.0->google-api-core!=2.0.*,!=2.1.*,!=2.2.*,!=2.3.*,!=2.4.*,!=2.5.*,!=2.6.*,!=2.7.*,<3.0.0dev,>=1.34.1->google-api-core[grpc]!=2.0.*,!=2.1.*,!=2.2.*,!=2.3.*,!=2.4.*,!=2.5.*,!=2.6.*,!=2.7.*,<3.0.0dev,>=1.34.1->google-cloud-aiplatform) (3.3.2)\n",
            "Requirement already satisfied: idna<4,>=2.5 in /usr/local/lib/python3.10/dist-packages (from requests<3.0.0.dev0,>=2.18.0->google-api-core!=2.0.*,!=2.1.*,!=2.2.*,!=2.3.*,!=2.4.*,!=2.5.*,!=2.6.*,!=2.7.*,<3.0.0dev,>=1.34.1->google-api-core[grpc]!=2.0.*,!=2.1.*,!=2.2.*,!=2.3.*,!=2.4.*,!=2.5.*,!=2.6.*,!=2.7.*,<3.0.0dev,>=1.34.1->google-cloud-aiplatform) (3.8)\n",
            "Requirement already satisfied: urllib3<3,>=1.21.1 in /usr/local/lib/python3.10/dist-packages (from requests<3.0.0.dev0,>=2.18.0->google-api-core!=2.0.*,!=2.1.*,!=2.2.*,!=2.3.*,!=2.4.*,!=2.5.*,!=2.6.*,!=2.7.*,<3.0.0dev,>=1.34.1->google-api-core[grpc]!=2.0.*,!=2.1.*,!=2.2.*,!=2.3.*,!=2.4.*,!=2.5.*,!=2.6.*,!=2.7.*,<3.0.0dev,>=1.34.1->google-cloud-aiplatform) (2.0.7)\n",
            "Requirement already satisfied: certifi>=2017.4.17 in /usr/local/lib/python3.10/dist-packages (from requests<3.0.0.dev0,>=2.18.0->google-api-core!=2.0.*,!=2.1.*,!=2.2.*,!=2.3.*,!=2.4.*,!=2.5.*,!=2.6.*,!=2.7.*,<3.0.0dev,>=1.34.1->google-api-core[grpc]!=2.0.*,!=2.1.*,!=2.2.*,!=2.3.*,!=2.4.*,!=2.5.*,!=2.6.*,!=2.7.*,<3.0.0dev,>=1.34.1->google-cloud-aiplatform) (2024.7.4)\n"
          ]
        }
      ]
    },
    {
      "cell_type": "code",
      "source": [
        "import sys\n",
        "\n",
        "if \"google.colab\" in sys.modules:\n",
        "    from google.colab import auth\n",
        "\n",
        "    auth.authenticate_user()"
      ],
      "metadata": {
        "id": "8QAUYqdFekYC"
      },
      "execution_count": null,
      "outputs": []
    },
    {
      "cell_type": "markdown",
      "source": [
        "Enter project details"
      ],
      "metadata": {
        "id": "2kgcY6Sqfncb"
      }
    },
    {
      "cell_type": "code",
      "source": [
        "PROJECT_ID = '[REPLACE-WITH-YOUR-PROJECT-ID]'\n",
        "REGION = 'us-central1'"
      ],
      "metadata": {
        "id": "uOkO2XvYem1Z"
      },
      "execution_count": null,
      "outputs": []
    },
    {
      "cell_type": "code",
      "source": [
        "# Import and initialize the Vertex AI Python SDK\n",
        "\n",
        "import vertexai\n",
        "vertexai.init(project = PROJECT_ID,\n",
        "              location = REGION)"
      ],
      "metadata": {
        "id": "QICaHgBEeztG"
      },
      "execution_count": null,
      "outputs": []
    },
    {
      "cell_type": "markdown",
      "source": [
        "### Use the embeddings model\n",
        "- Import and load the model."
      ],
      "metadata": {
        "id": "pVJC2Qq4flen"
      }
    },
    {
      "cell_type": "code",
      "source": [
        "from vertexai.language_models import TextEmbeddingModel"
      ],
      "metadata": {
        "id": "_DFwMdiZfSft"
      },
      "execution_count": null,
      "outputs": []
    },
    {
      "cell_type": "code",
      "source": [
        "embedding_model = TextEmbeddingModel.from_pretrained(\"textembedding-gecko@001\")"
      ],
      "metadata": {
        "id": "JGbNyZtHft00"
      },
      "execution_count": null,
      "outputs": []
    },
    {
      "cell_type": "markdown",
      "source": [
        "- Generate a word embedding\n"
      ],
      "metadata": {
        "id": "i0CHU1UdfyvC"
      }
    },
    {
      "cell_type": "code",
      "source": [
        "embedding = embedding_model.get_embeddings([\"life\"])"
      ],
      "metadata": {
        "id": "Y7yOwJLrfySF"
      },
      "execution_count": null,
      "outputs": []
    },
    {
      "cell_type": "markdown",
      "source": [
        "- The returned object is a list with a single `TextEmbedding` object.\n",
        "- The `TextEmbedding.values` field stores the embeddings in a Python list."
      ],
      "metadata": {
        "id": "B5Ag65nVgAN2"
      }
    },
    {
      "cell_type": "code",
      "source": [
        "vector = embedding[0].values\n",
        "print(f\"Length = {len(vector)}\")\n",
        "print(vector[:10])"
      ],
      "metadata": {
        "colab": {
          "base_uri": "https://localhost:8080/"
        },
        "id": "OQitGpLmf98K",
        "outputId": "7d58a8bb-be2f-448d-c1d8-2dd22ba987d2"
      },
      "execution_count": null,
      "outputs": [
        {
          "output_type": "stream",
          "name": "stdout",
          "text": [
            "Length = 768\n",
            "[-0.006005102302879095, 0.015532972291111946, -0.030447669327259064, 0.05322219058871269, 0.014444807544350624, -0.0542873740196228, 0.045140113681554794, 0.02127358317375183, -0.06537645310163498, 0.019103270024061203]\n"
          ]
        }
      ]
    },
    {
      "cell_type": "markdown",
      "source": [
        "- Generate a sentence embedding."
      ],
      "metadata": {
        "id": "IO80i_UCgyvX"
      }
    },
    {
      "cell_type": "code",
      "source": [
        "embedding = embedding_model.get_embeddings([\"What is the meaning of life?\"])"
      ],
      "metadata": {
        "id": "ClUwT9SngK4Y"
      },
      "execution_count": null,
      "outputs": []
    },
    {
      "cell_type": "code",
      "source": [
        "vector = embedding[0].values\n",
        "print(f\"Length = {len(vector)}\")\n",
        "print(vector[:10])"
      ],
      "metadata": {
        "colab": {
          "base_uri": "https://localhost:8080/"
        },
        "id": "UuS2HqTmg2KE",
        "outputId": "c21c3ebe-1c9f-43f0-c7d1-89015b6664cf"
      },
      "execution_count": null,
      "outputs": [
        {
          "output_type": "stream",
          "name": "stdout",
          "text": [
            "Length = 768\n",
            "[0.020522113889455795, 0.02229207195341587, -0.009265718050301075, 0.005001612473279238, 0.016248879954218864, -0.018983161076903343, 0.04320966452360153, 0.02643178217113018, -0.04369377717375755, 0.023666976019740105]\n"
          ]
        }
      ]
    },
    {
      "cell_type": "markdown",
      "source": [
        "### Similarity\n",
        "- Calculate the similarity between two sentences as a number between 0 and 1.\n",
        "- Try out your own sentences and check if the similarity calculations match your intuition."
      ],
      "metadata": {
        "id": "l2yvFzWag8TY"
      }
    },
    {
      "cell_type": "code",
      "source": [
        "from sklearn.metrics.pairwise import cosine_similarity"
      ],
      "metadata": {
        "id": "nUnnTCJVg7my"
      },
      "execution_count": null,
      "outputs": []
    },
    {
      "cell_type": "code",
      "source": [
        "emb_1 = embedding_model.get_embeddings([\"What is the meaning of life?\"]) # To follow David Regalado :)\n",
        "\n",
        "emb_2 = embedding_model.get_embeddings([\"How does one spend their time well on Earth?\"])\n",
        "\n",
        "emb_3 = embedding_model.get_embeddings([\"Would you like a salad?\"])\n",
        "\n",
        "vec_1 = [emb_1[0].values]\n",
        "vec_2 = [emb_2[0].values]\n",
        "vec_3 = [emb_3[0].values]"
      ],
      "metadata": {
        "id": "W4hFbofqhDRS"
      },
      "execution_count": null,
      "outputs": []
    },
    {
      "cell_type": "markdown",
      "source": [
        "- Note: the reason we wrap the embeddings (a Python list) in another list is because the `cosine_similarity` function expects either a 2D numpy array or a list of lists.\n",
        "\n"
      ],
      "metadata": {
        "id": "MPIAgFyzhIwo"
      }
    },
    {
      "cell_type": "code",
      "source": [
        "print(cosine_similarity(vec_1,vec_2))\n",
        "print(cosine_similarity(vec_2,vec_3))\n",
        "print(cosine_similarity(vec_1,vec_3))"
      ],
      "metadata": {
        "colab": {
          "base_uri": "https://localhost:8080/"
        },
        "id": "GhOObQBqhG9K",
        "outputId": "878bc958-5b53-4477-b6cc-28bd65518dad"
      },
      "execution_count": null,
      "outputs": [
        {
          "output_type": "stream",
          "name": "stdout",
          "text": [
            "[[0.65503744]]\n",
            "[[0.52001556]]\n",
            "[[0.54139322]]\n"
          ]
        }
      ]
    },
    {
      "cell_type": "markdown",
      "source": [
        "### From word to sentence embeddings\n",
        "- One possible way to calculate sentence embeddings from word embeddings is to take the average of the word embeddings.\n",
        "- This ignores word order and context, so two sentences with different meanings, but the same set of words will end up with the same sentence embedding."
      ],
      "metadata": {
        "id": "_b1RYuS2h5rO"
      }
    },
    {
      "cell_type": "code",
      "source": [
        "in_1 = \"The kids play in the park.\"\n",
        "in_2 = \"The play was for kids in the park.\""
      ],
      "metadata": {
        "id": "FfoUfab4hy82"
      },
      "execution_count": null,
      "outputs": []
    },
    {
      "cell_type": "markdown",
      "source": [
        "- Remove stop words like [\"the\", \"in\", \"for\", \"an\", \"is\"] and punctuation."
      ],
      "metadata": {
        "id": "L-86rtbWiG1y"
      }
    },
    {
      "cell_type": "code",
      "source": [
        "in_pp_1 = [\"kids\", \"play\", \"park\"]\n",
        "in_pp_2 = [\"play\", \"kids\", \"park\"]"
      ],
      "metadata": {
        "id": "ITUrLMGMiHuv"
      },
      "execution_count": null,
      "outputs": []
    },
    {
      "cell_type": "markdown",
      "source": [
        "- Generate one embedding for each word. So this is a list of three lists."
      ],
      "metadata": {
        "id": "U_MM-hfkiOVO"
      }
    },
    {
      "cell_type": "code",
      "source": [
        "embeddings_1 = [emb.values for emb in embedding_model.get_embeddings(in_pp_1)]"
      ],
      "metadata": {
        "id": "AclafWNkiQMD"
      },
      "execution_count": null,
      "outputs": []
    },
    {
      "cell_type": "markdown",
      "source": [
        "- Use numpy to convert this list of lists into a 2D array of 3 rows and 768 columns."
      ],
      "metadata": {
        "id": "fMIFr-ZgiSGg"
      }
    },
    {
      "cell_type": "code",
      "source": [
        "import numpy as np\n",
        "emb_array_1 = np.stack(embeddings_1)\n",
        "print(emb_array_1.shape)"
      ],
      "metadata": {
        "colab": {
          "base_uri": "https://localhost:8080/"
        },
        "id": "5tWJ3wlOiV23",
        "outputId": "2c95a992-adfa-4419-e140-16852bedbd92"
      },
      "execution_count": null,
      "outputs": [
        {
          "output_type": "stream",
          "name": "stdout",
          "text": [
            "(3, 768)\n"
          ]
        }
      ]
    },
    {
      "cell_type": "code",
      "source": [
        "embeddings_2 = [emb.values for emb in embedding_model.get_embeddings(in_pp_2)]\n",
        "emb_array_2 = np.stack(embeddings_2)\n",
        "print(emb_array_2.shape)"
      ],
      "metadata": {
        "colab": {
          "base_uri": "https://localhost:8080/"
        },
        "id": "NeTx7ICbiZJy",
        "outputId": "79dcff57-6e42-495e-da6d-f0df06617ec0"
      },
      "execution_count": null,
      "outputs": [
        {
          "output_type": "stream",
          "name": "stdout",
          "text": [
            "(3, 768)\n"
          ]
        }
      ]
    },
    {
      "cell_type": "markdown",
      "source": [
        "- Take the average embedding across the 3 word embeddings\n",
        "- You'll get a single embedding of length 768."
      ],
      "metadata": {
        "id": "NLKvdzbEiegd"
      }
    },
    {
      "cell_type": "code",
      "source": [
        "emb_1_mean = emb_array_1.mean(axis = 0)\n",
        "print(emb_1_mean.shape)"
      ],
      "metadata": {
        "colab": {
          "base_uri": "https://localhost:8080/"
        },
        "id": "dOCHQuFkihR1",
        "outputId": "14030040-b07f-4dc4-9732-1a2904a26ce1"
      },
      "execution_count": null,
      "outputs": [
        {
          "output_type": "stream",
          "name": "stdout",
          "text": [
            "(768,)\n"
          ]
        }
      ]
    },
    {
      "cell_type": "code",
      "source": [
        "emb_2_mean = emb_array_2.mean(axis = 0)"
      ],
      "metadata": {
        "id": "OvhRJ2DUiKuF"
      },
      "execution_count": null,
      "outputs": []
    },
    {
      "cell_type": "markdown",
      "source": [
        "- Check to see that taking an average of word embeddings results in two sentence embeddings that are identical.\n"
      ],
      "metadata": {
        "id": "VPyWH4P1ikxL"
      }
    },
    {
      "cell_type": "code",
      "source": [
        "print(emb_1_mean[:4])\n",
        "print(emb_2_mean[:4])"
      ],
      "metadata": {
        "colab": {
          "base_uri": "https://localhost:8080/"
        },
        "id": "Z4bwhAGWikcB",
        "outputId": "d2c4a460-201c-4999-d8c2-872959c00d0c"
      },
      "execution_count": null,
      "outputs": [
        {
          "output_type": "stream",
          "name": "stdout",
          "text": [
            "[-0.00385805 -0.00522636  0.00574341  0.03331106]\n",
            "[-0.00385805 -0.00522636  0.00574341  0.03331106]\n"
          ]
        }
      ]
    },
    {
      "cell_type": "markdown",
      "source": [
        "### Get sentence embeddings from the model.\n",
        "- These sentence embeddings account for word order and context.\n",
        "- Verify that the sentence embeddings are not the same."
      ],
      "metadata": {
        "id": "aJIG2cvOiphu"
      }
    },
    {
      "cell_type": "code",
      "source": [
        "print(in_1)\n",
        "print(in_2)"
      ],
      "metadata": {
        "colab": {
          "base_uri": "https://localhost:8080/"
        },
        "id": "2uheA0p4iseH",
        "outputId": "199dbcbb-390e-49de-d2c5-be269e10b8bc"
      },
      "execution_count": null,
      "outputs": [
        {
          "output_type": "stream",
          "name": "stdout",
          "text": [
            "The kids play in the park.\n",
            "The play was for kids in the park.\n"
          ]
        }
      ]
    },
    {
      "cell_type": "code",
      "source": [
        "embedding_1 = embedding_model.get_embeddings([in_1])\n",
        "embedding_2 = embedding_model.get_embeddings([in_2])"
      ],
      "metadata": {
        "id": "rB8tz5quinNT"
      },
      "execution_count": null,
      "outputs": []
    },
    {
      "cell_type": "code",
      "source": [
        "vector_1 = embedding_1[0].values\n",
        "print(vector_1[:4])\n",
        "vector_2 = embedding_2[0].values\n",
        "print(vector_2[:4])"
      ],
      "metadata": {
        "colab": {
          "base_uri": "https://localhost:8080/"
        },
        "id": "NjiGrMe5i2us",
        "outputId": "29e17c1c-03b0-434c-a22f-ec186691c302"
      },
      "execution_count": null,
      "outputs": [
        {
          "output_type": "stream",
          "name": "stdout",
          "text": [
            "[0.0039385221898555756, -0.020830577239394188, -0.002994248876348138, -0.007580515928566456]\n",
            "[-0.01565515622496605, -0.012884826399385929, 0.01229254249483347, -0.0005865463172085583]\n"
          ]
        }
      ]
    },
    {
      "cell_type": "markdown",
      "metadata": {
        "id": "Ba3tYIzFYIUD"
      },
      "source": [
        "---\n",
        "If you made it this far, follow [David Regalado](https://beacons.ai/davidregalado) for more code!"
      ]
    }
  ]
}